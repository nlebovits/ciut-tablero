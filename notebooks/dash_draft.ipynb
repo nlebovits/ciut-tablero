{
 "cells": [
  {
   "cell_type": "code",
   "execution_count": 3,
   "metadata": {},
   "outputs": [
    {
     "data": {
      "text/html": [
       "\n",
       "            <style>\n",
       "                .geemap-dark {\n",
       "                    --jp-widgets-color: white;\n",
       "                    --jp-widgets-label-color: white;\n",
       "                    --jp-ui-font-color1: white;\n",
       "                    --jp-layout-color2: #454545;\n",
       "                    background-color: #383838;\n",
       "                }\n",
       "\n",
       "                .geemap-dark .jupyter-button {\n",
       "                    --jp-layout-color3: #383838;\n",
       "                }\n",
       "\n",
       "                .geemap-colab {\n",
       "                    background-color: var(--colab-primary-surface-color, white);\n",
       "                }\n",
       "\n",
       "                .geemap-colab .jupyter-button {\n",
       "                    --jp-layout-color3: var(--colab-primary-surface-color, white);\n",
       "                }\n",
       "            </style>\n",
       "            "
      ],
      "text/plain": [
       "<IPython.core.display.HTML object>"
      ]
     },
     "metadata": {},
     "output_type": "display_data"
    }
   ],
   "source": [
    "import ee\n",
    "import geemap\n",
    "import geopandas as gpd\n",
    "\n",
    "import sys\n",
    "import os\n",
    "\n",
    "sys.path.append(os.path.abspath(\"..\"))  # Add the parent directory to Python path\n",
    "from utils.etl import load_exported_datasets\n",
    "from utils.etl import get_municipalities\n",
    "\n",
    "\n",
    "ee.Authenticate()\n",
    "\n",
    "ee.Initialize(project=\"ee-ciut\")"
   ]
  },
  {
   "cell_type": "code",
   "execution_count": 4,
   "metadata": {},
   "outputs": [
    {
     "data": {
      "text/html": [
       "\n",
       "            <style>\n",
       "                .geemap-dark {\n",
       "                    --jp-widgets-color: white;\n",
       "                    --jp-widgets-label-color: white;\n",
       "                    --jp-ui-font-color1: white;\n",
       "                    --jp-layout-color2: #454545;\n",
       "                    background-color: #383838;\n",
       "                }\n",
       "\n",
       "                .geemap-dark .jupyter-button {\n",
       "                    --jp-layout-color3: #383838;\n",
       "                }\n",
       "\n",
       "                .geemap-colab {\n",
       "                    background-color: var(--colab-primary-surface-color, white);\n",
       "                }\n",
       "\n",
       "                .geemap-colab .jupyter-button {\n",
       "                    --jp-layout-color3: var(--colab-primary-surface-color, white);\n",
       "                }\n",
       "            </style>\n",
       "            "
      ],
      "text/plain": [
       "<IPython.core.display.HTML object>"
      ]
     },
     "metadata": {},
     "output_type": "display_data"
    }
   ],
   "source": [
    "# Constants\n",
    "BUCKET_NAME = \"ciut-tablero\"\n",
    "GOOGLE_CLOUD_PROJECT = \"ee-ciut\""
   ]
  },
  {
   "cell_type": "code",
   "execution_count": 5,
   "metadata": {},
   "outputs": [
    {
     "data": {
      "text/html": [
       "\n",
       "            <style>\n",
       "                .geemap-dark {\n",
       "                    --jp-widgets-color: white;\n",
       "                    --jp-widgets-label-color: white;\n",
       "                    --jp-ui-font-color1: white;\n",
       "                    --jp-layout-color2: #454545;\n",
       "                    background-color: #383838;\n",
       "                }\n",
       "\n",
       "                .geemap-dark .jupyter-button {\n",
       "                    --jp-layout-color3: #383838;\n",
       "                }\n",
       "\n",
       "                .geemap-colab {\n",
       "                    background-color: var(--colab-primary-surface-color, white);\n",
       "                }\n",
       "\n",
       "                .geemap-colab .jupyter-button {\n",
       "                    --jp-layout-color3: var(--colab-primary-surface-color, white);\n",
       "                }\n",
       "            </style>\n",
       "            "
      ],
      "text/plain": [
       "<IPython.core.display.HTML object>"
      ]
     },
     "metadata": {},
     "output_type": "display_data"
    },
    {
     "name": "stderr",
     "output_type": "stream",
     "text": [
      "2025-04-28 15:03:57,021 - utils.etl - INFO - \n",
      "Loading population dataset:\n",
      "2025-04-28 15:03:57,022 - utils.etl - INFO - Prefix: draft_data/worldpop_2020\n",
      "2025-04-28 15:04:00,356 - utils.etl - INFO - Found files: ['gs://ciut-tablero/draft_data/worldpop_2020.tif']\n",
      "2025-04-28 15:04:00,356 - utils.etl - INFO - Using asset_id: gs://ciut-tablero/draft_data/worldpop_2020.tif\n",
      "2025-04-28 15:04:00,356 - utils.etl - INFO - Successfully loaded population dataset\n",
      "2025-04-28 15:04:00,357 - utils.etl - INFO - \n",
      "Loading impervious dataset:\n",
      "2025-04-28 15:04:00,357 - utils.etl - INFO - Prefix: draft_data/gisa_2019\n",
      "2025-04-28 15:04:02,403 - utils.etl - INFO - Found files: ['gs://ciut-tablero/draft_data/gisa_2019.tif']\n",
      "2025-04-28 15:04:02,404 - utils.etl - INFO - Using asset_id: gs://ciut-tablero/draft_data/gisa_2019.tif\n",
      "2025-04-28 15:04:02,404 - utils.etl - INFO - Successfully loaded impervious dataset\n",
      "2025-04-28 15:04:02,405 - utils.etl - INFO - \n",
      "Loading wetlands dataset:\n",
      "2025-04-28 15:04:02,405 - utils.etl - INFO - Prefix: draft_data/wetlands_2022\n",
      "2025-04-28 15:04:04,516 - utils.etl - INFO - Found files: ['gs://ciut-tablero/draft_data/wetlands_2022.tif']\n",
      "2025-04-28 15:04:04,516 - utils.etl - INFO - Using asset_id: gs://ciut-tablero/draft_data/wetlands_2022.tif\n",
      "2025-04-28 15:04:04,517 - utils.etl - INFO - Successfully loaded wetlands dataset\n",
      "2025-04-28 15:04:04,517 - utils.etl - INFO - \n",
      "Loading nighttime_lights dataset:\n",
      "2025-04-28 15:04:04,517 - utils.etl - INFO - Prefix: draft_data/nighttime_lights_2021\n",
      "2025-04-28 15:04:06,318 - utils.etl - INFO - Found files: ['gs://ciut-tablero/draft_data/nighttime_lights_2021.tif']\n",
      "2025-04-28 15:04:06,318 - utils.etl - INFO - Using asset_id: gs://ciut-tablero/draft_data/nighttime_lights_2021.tif\n",
      "2025-04-28 15:04:06,319 - utils.etl - INFO - Successfully loaded nighttime_lights dataset\n",
      "2025-04-28 15:04:06,319 - utils.etl - INFO - \n",
      "Loading vulnerability dataset:\n",
      "2025-04-28 15:04:06,319 - utils.etl - INFO - Prefix: draft_data/vulnerability_2021\n",
      "2025-04-28 15:04:08,447 - utils.etl - INFO - Found files: ['gs://ciut-tablero/draft_data/vulnerability_2021.tif']\n",
      "2025-04-28 15:04:08,448 - utils.etl - INFO - Using asset_id: gs://ciut-tablero/draft_data/vulnerability_2021.tif\n",
      "2025-04-28 15:04:08,448 - utils.etl - INFO - Successfully loaded vulnerability dataset\n"
     ]
    }
   ],
   "source": [
    "datasets = load_exported_datasets()"
   ]
  },
  {
   "cell_type": "code",
   "execution_count": 7,
   "metadata": {},
   "outputs": [
    {
     "data": {
      "text/html": [
       "\n",
       "            <style>\n",
       "                .geemap-dark {\n",
       "                    --jp-widgets-color: white;\n",
       "                    --jp-widgets-label-color: white;\n",
       "                    --jp-ui-font-color1: white;\n",
       "                    --jp-layout-color2: #454545;\n",
       "                    background-color: #383838;\n",
       "                }\n",
       "\n",
       "                .geemap-dark .jupyter-button {\n",
       "                    --jp-layout-color3: #383838;\n",
       "                }\n",
       "\n",
       "                .geemap-colab {\n",
       "                    background-color: var(--colab-primary-surface-color, white);\n",
       "                }\n",
       "\n",
       "                .geemap-colab .jupyter-button {\n",
       "                    --jp-layout-color3: var(--colab-primary-surface-color, white);\n",
       "                }\n",
       "            </style>\n",
       "            "
      ],
      "text/plain": [
       "<IPython.core.display.HTML object>"
      ]
     },
     "metadata": {},
     "output_type": "display_data"
    },
    {
     "name": "stderr",
     "output_type": "stream",
     "text": [
      "2025-04-28 15:04:23,704 - pyogrio._io - INFO - Created 110 records\n"
     ]
    }
   ],
   "source": [
    "municipalities = get_municipalities()\n",
    "basins_gdf = gpd.read_file(\n",
    "    \"/home/nissim/Documents/dev/ciut-tablero/data/dipsoh_cuencas.geojson\"\n",
    ")\n",
    "basins_ee = geemap.geopandas_to_ee(basins_gdf)\n",
    "intersecting_basins = basins_ee.filterBounds(municipalities.geometry())\n",
    "aoi = intersecting_basins.geometry()"
   ]
  },
  {
   "cell_type": "code",
   "execution_count": 8,
   "metadata": {},
   "outputs": [
    {
     "data": {
      "text/html": [
       "\n",
       "            <style>\n",
       "                .geemap-dark {\n",
       "                    --jp-widgets-color: white;\n",
       "                    --jp-widgets-label-color: white;\n",
       "                    --jp-ui-font-color1: white;\n",
       "                    --jp-layout-color2: #454545;\n",
       "                    background-color: #383838;\n",
       "                }\n",
       "\n",
       "                .geemap-dark .jupyter-button {\n",
       "                    --jp-layout-color3: #383838;\n",
       "                }\n",
       "\n",
       "                .geemap-colab {\n",
       "                    background-color: var(--colab-primary-surface-color, white);\n",
       "                }\n",
       "\n",
       "                .geemap-colab .jupyter-button {\n",
       "                    --jp-layout-color3: var(--colab-primary-surface-color, white);\n",
       "                }\n",
       "            </style>\n",
       "            "
      ],
      "text/plain": [
       "<IPython.core.display.HTML object>"
      ]
     },
     "metadata": {},
     "output_type": "display_data"
    }
   ],
   "source": [
    "gisa = datasets[\"impervious\"]\n",
    "population = datasets[\"population\"]\n",
    "wetlands = datasets[\"wetlands\"]\n",
    "nighttime_lights = datasets[\"nighttime_lights\"]\n",
    "vulnerability = datasets[\"vulnerability\"]"
   ]
  },
  {
   "cell_type": "code",
   "execution_count": 9,
   "metadata": {},
   "outputs": [
    {
     "data": {
      "text/html": [
       "\n",
       "            <style>\n",
       "                .geemap-dark {\n",
       "                    --jp-widgets-color: white;\n",
       "                    --jp-widgets-label-color: white;\n",
       "                    --jp-ui-font-color1: white;\n",
       "                    --jp-layout-color2: #454545;\n",
       "                    background-color: #383838;\n",
       "                }\n",
       "\n",
       "                .geemap-dark .jupyter-button {\n",
       "                    --jp-layout-color3: #383838;\n",
       "                }\n",
       "\n",
       "                .geemap-colab {\n",
       "                    background-color: var(--colab-primary-surface-color, white);\n",
       "                }\n",
       "\n",
       "                .geemap-colab .jupyter-button {\n",
       "                    --jp-layout-color3: var(--colab-primary-surface-color, white);\n",
       "                }\n",
       "            </style>\n",
       "            "
      ],
      "text/plain": [
       "<IPython.core.display.HTML object>"
      ]
     },
     "metadata": {},
     "output_type": "display_data"
    }
   ],
   "source": [
    "# Create map and center on AOI\n",
    "Map = geemap.Map(basemap=\"CartoDB.Positron\")\n",
    "Map.centerObject(aoi, 9)\n",
    "\n",
    "Map.addLayer(gisa, {}, \"GISA 1972–2019\")"
   ]
  },
  {
   "cell_type": "code",
   "execution_count": 10,
   "metadata": {},
   "outputs": [
    {
     "data": {
      "text/html": [
       "\n",
       "            <style>\n",
       "                .geemap-dark {\n",
       "                    --jp-widgets-color: white;\n",
       "                    --jp-widgets-label-color: white;\n",
       "                    --jp-ui-font-color1: white;\n",
       "                    --jp-layout-color2: #454545;\n",
       "                    background-color: #383838;\n",
       "                }\n",
       "\n",
       "                .geemap-dark .jupyter-button {\n",
       "                    --jp-layout-color3: #383838;\n",
       "                }\n",
       "\n",
       "                .geemap-colab {\n",
       "                    background-color: var(--colab-primary-surface-color, white);\n",
       "                }\n",
       "\n",
       "                .geemap-colab .jupyter-button {\n",
       "                    --jp-layout-color3: var(--colab-primary-surface-color, white);\n",
       "                }\n",
       "            </style>\n",
       "            "
      ],
      "text/plain": [
       "<IPython.core.display.HTML object>"
      ]
     },
     "metadata": {},
     "output_type": "display_data"
    }
   ],
   "source": [
    "Map.addLayer(\n",
    "    population,\n",
    "    {\n",
    "        \"bands\": [\"population\"],\n",
    "        \"min\": 0.0,\n",
    "        \"max\": 50.0,\n",
    "        \"palette\": [\"24126c\", \"1fff4f\", \"d4ff50\"],\n",
    "    },\n",
    "    \"WorldPop Population 100m\",\n",
    ")"
   ]
  },
  {
   "cell_type": "code",
   "execution_count": 11,
   "metadata": {},
   "outputs": [
    {
     "data": {
      "text/html": [
       "\n",
       "            <style>\n",
       "                .geemap-dark {\n",
       "                    --jp-widgets-color: white;\n",
       "                    --jp-widgets-label-color: white;\n",
       "                    --jp-ui-font-color1: white;\n",
       "                    --jp-layout-color2: #454545;\n",
       "                    background-color: #383838;\n",
       "                }\n",
       "\n",
       "                .geemap-dark .jupyter-button {\n",
       "                    --jp-layout-color3: #383838;\n",
       "                }\n",
       "\n",
       "                .geemap-colab {\n",
       "                    background-color: var(--colab-primary-surface-color, white);\n",
       "                }\n",
       "\n",
       "                .geemap-colab .jupyter-button {\n",
       "                    --jp-layout-color3: var(--colab-primary-surface-color, white);\n",
       "                }\n",
       "            </style>\n",
       "            "
      ],
      "text/plain": [
       "<IPython.core.display.HTML object>"
      ]
     },
     "metadata": {},
     "output_type": "display_data"
    },
    {
     "data": {
      "application/vnd.jupyter.widget-view+json": {
       "model_id": "618c3d481b8543d1b2b549523ba4a3d9",
       "version_major": 2,
       "version_minor": 0
      },
      "text/plain": [
       "Map(center=[-35.23620217745599, -57.97610800815036], controls=(WidgetControl(options=['position', 'transparent…"
      ]
     },
     "execution_count": 11,
     "metadata": {},
     "output_type": "execute_result"
    }
   ],
   "source": [
    "ntl_vis = {\n",
    "    \"opacity\": 1,\n",
    "    \"bands\": [\"avg_rad\"],\n",
    "    \"min\": 1,\n",
    "    \"max\": 32,\n",
    "    \"palette\": [\"584d9f\", \"9c79c1\", \"c98cbe\", \"f2d192\", \"e2ee82\"],\n",
    "}\n",
    "Map.addLayer(nighttime_lights, ntl_vis, \"NTL VIIRS\")\n",
    "\n",
    "wetlands_vis = {\n",
    "    \"min\": 180,\n",
    "    \"max\": 187,\n",
    "    \"palette\": [\n",
    "        \"#CCCCCC\",\n",
    "        \"#0000FF\",\n",
    "        \"#006400\",\n",
    "        \"#00FF00\",\n",
    "        \"#00FFFF\",\n",
    "        \"#CC99FF\",\n",
    "        \"#556B2F\",\n",
    "        \"#FFFF99\",\n",
    "        \"#D2B48C\",\n",
    "    ],\n",
    "}\n",
    "Map.addLayer(wetlands.mask(wetlands.neq(0)), wetlands_vis, \"GWL FCS30 Wetlands\")\n",
    "\n",
    "Map.addLayer(\n",
    "    intersecting_basins.style(\n",
    "        **{\"color\": \"black\", \"fillColor\": \"00000000\", \"width\": 1}\n",
    "    ),\n",
    "    {},\n",
    "    \"Intersecting Basins\",\n",
    ")\n",
    "\n",
    "Map"
   ]
  }
 ],
 "metadata": {
  "kernelspec": {
   "display_name": ".venv",
   "language": "python",
   "name": "python3"
  },
  "language_info": {
   "codemirror_mode": {
    "name": "ipython",
    "version": 3
   },
   "file_extension": ".py",
   "mimetype": "text/x-python",
   "name": "python",
   "nbconvert_exporter": "python",
   "pygments_lexer": "ipython3",
   "version": "3.12.3"
  }
 },
 "nbformat": 4,
 "nbformat_minor": 2
}
